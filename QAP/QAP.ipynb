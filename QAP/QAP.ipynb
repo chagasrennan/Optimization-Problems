{
 "cells": [
  {
   "cell_type": "code",
   "execution_count": 1,
   "id": "73c2175c",
   "metadata": {},
   "outputs": [],
   "source": [
    "import pandas as pd\n",
    "import numpy as np\n",
    "\n",
    "from numba import njit"
   ]
  },
  {
   "cell_type": "code",
   "execution_count": 2,
   "id": "404e8481",
   "metadata": {},
   "outputs": [],
   "source": [
    "target_url = 'https://coral.ise.lehigh.edu/wp-content/uploads/2014/07/data.d/tai12a.dat'\n",
    "    \n",
    "dd = pd.read_table(target_url,sep='\\s+').reset_index()\n",
    "\n",
    "n = int(dd.shape[0]/2)\n",
    "\n",
    "flow = dd.iloc[:n].values\n",
    "\n",
    "dist = dd.iloc[n:].values"
   ]
  },
  {
   "cell_type": "code",
   "execution_count": 3,
   "id": "c0277166",
   "metadata": {},
   "outputs": [],
   "source": [
    "opt_sol = np.array([8,1,6,2,11,10,3,5,9,7,12,4])\n",
    "\n",
    "opt_val = 224416"
   ]
  },
  {
   "cell_type": "code",
   "execution_count": 4,
   "id": "9d550052",
   "metadata": {},
   "outputs": [],
   "source": [
    "def cost(flow, dist, sol):\n",
    "    obj = 0\n",
    "    for i in range(n):\n",
    "        for j in range(n):\n",
    "            obj = obj + dist[sol[i]-1][sol[j]-1]*flow[i][j]\n",
    "\n",
    "    return obj"
   ]
  },
  {
   "cell_type": "code",
   "execution_count": 5,
   "id": "e3b38c6c",
   "metadata": {},
   "outputs": [],
   "source": [
    "jitted_cost = njit()(cost)"
   ]
  },
  {
   "cell_type": "code",
   "execution_count": 6,
   "id": "cd9f2b30",
   "metadata": {},
   "outputs": [
    {
     "name": "stdout",
     "output_type": "stream",
     "text": [
      "CPU times: user 319 µs, sys: 1e+03 ns, total: 320 µs\n",
      "Wall time: 323 µs\n"
     ]
    },
    {
     "data": {
      "text/plain": [
       "224416"
      ]
     },
     "execution_count": 6,
     "metadata": {},
     "output_type": "execute_result"
    }
   ],
   "source": [
    "%%time\n",
    "\n",
    "cost(flow, dist, opt_sol)"
   ]
  },
  {
   "cell_type": "code",
   "execution_count": 7,
   "id": "15adf2c2",
   "metadata": {},
   "outputs": [
    {
     "name": "stdout",
     "output_type": "stream",
     "text": [
      "CPU times: user 529 ms, sys: 75.9 ms, total: 605 ms\n",
      "Wall time: 325 ms\n"
     ]
    },
    {
     "data": {
      "text/plain": [
       "224416"
      ]
     },
     "execution_count": 7,
     "metadata": {},
     "output_type": "execute_result"
    }
   ],
   "source": [
    "%%time\n",
    "\n",
    "jitted_cost(flow, dist, opt_sol)"
   ]
  },
  {
   "cell_type": "code",
   "execution_count": 61,
   "id": "fbe82ebc",
   "metadata": {},
   "outputs": [],
   "source": [
    "def rndsol(n):\n",
    "    random_sol = np.arange(1,n+1)\n",
    "    np.random.shuffle(random_sol)\n",
    "\n",
    "    return random_sol"
   ]
  },
  {
   "cell_type": "code",
   "execution_count": 62,
   "id": "e5456608",
   "metadata": {},
   "outputs": [
    {
     "name": "stdout",
     "output_type": "stream",
     "text": [
      "CPU times: user 35 µs, sys: 5 µs, total: 40 µs\n",
      "Wall time: 44.1 µs\n"
     ]
    },
    {
     "data": {
      "text/plain": [
       "array([ 5,  6, 10, 11,  3, 12,  2,  7,  4,  9,  8,  1])"
      ]
     },
     "execution_count": 62,
     "metadata": {},
     "output_type": "execute_result"
    }
   ],
   "source": [
    "%%time\n",
    "\n",
    "rndsol(n)"
   ]
  },
  {
   "cell_type": "code",
   "execution_count": 72,
   "id": "7032b3a8",
   "metadata": {},
   "outputs": [],
   "source": [
    "jitted_rndsol = njit()(rndsol)"
   ]
  },
  {
   "cell_type": "code",
   "execution_count": 74,
   "id": "de66c1e3",
   "metadata": {},
   "outputs": [
    {
     "name": "stdout",
     "output_type": "stream",
     "text": [
      "CPU times: user 13 µs, sys: 0 ns, total: 13 µs\n",
      "Wall time: 16 µs\n"
     ]
    },
    {
     "data": {
      "text/plain": [
       "array([ 3,  4,  1,  2,  6,  8, 12,  7, 11, 10,  5,  9])"
      ]
     },
     "execution_count": 74,
     "metadata": {},
     "output_type": "execute_result"
    }
   ],
   "source": [
    "%%time\n",
    "\n",
    "jitted_rndsol(n)"
   ]
  },
  {
   "cell_type": "code",
   "execution_count": 52,
   "id": "7a9bd29c",
   "metadata": {},
   "outputs": [],
   "source": [
    "def swap(i,j,sol):\n",
    "    new_sol = sol.copy()\n",
    "    a = sol[i]\n",
    "    b = sol[j]\n",
    "    new_sol[i] = b\n",
    "    new_sol[j] = a\n",
    "    \n",
    "    return new_sol"
   ]
  },
  {
   "cell_type": "code",
   "execution_count": 53,
   "id": "5e39cf9f",
   "metadata": {},
   "outputs": [],
   "source": [
    "init_sol = np.arange(1,n+1)"
   ]
  },
  {
   "cell_type": "code",
   "execution_count": 54,
   "id": "e8aad251",
   "metadata": {},
   "outputs": [
    {
     "name": "stdout",
     "output_type": "stream",
     "text": [
      "CPU times: user 16 µs, sys: 4 µs, total: 20 µs\n",
      "Wall time: 23.8 µs\n"
     ]
    },
    {
     "data": {
      "text/plain": [
       "array([10,  2,  3,  4,  5,  6,  7,  8,  9,  1, 11, 12])"
      ]
     },
     "execution_count": 54,
     "metadata": {},
     "output_type": "execute_result"
    }
   ],
   "source": [
    "%%time\n",
    "swap(0,9,init_sol)"
   ]
  },
  {
   "cell_type": "code",
   "execution_count": 58,
   "id": "d08724a7",
   "metadata": {},
   "outputs": [],
   "source": [
    "jitted_swap = njit()(swap)"
   ]
  },
  {
   "cell_type": "code",
   "execution_count": 60,
   "id": "013b0428",
   "metadata": {},
   "outputs": [
    {
     "name": "stdout",
     "output_type": "stream",
     "text": [
      "CPU times: user 13 µs, sys: 0 ns, total: 13 µs\n",
      "Wall time: 16.9 µs\n"
     ]
    },
    {
     "data": {
      "text/plain": [
       "array([10,  2,  3,  4,  5,  6,  7,  8,  9,  1, 11, 12])"
      ]
     },
     "execution_count": 60,
     "metadata": {},
     "output_type": "execute_result"
    }
   ],
   "source": [
    "%%time\n",
    "jitted_swap(0,9,init_sol)"
   ]
  },
  {
   "cell_type": "code",
   "execution_count": 35,
   "id": "2e063410",
   "metadata": {},
   "outputs": [],
   "source": [
    "def local_search(sol):\n",
    "    current_sol = sol.copy()\n",
    "    current_cost = cost(flow, dist, current_sol)\n",
    "\n",
    "    current_best = current_cost\n",
    "    best_sol = current_sol.copy()\n",
    "\n",
    "    for i in range(n):\n",
    "        for j in range(i+1,n):\n",
    "\n",
    "            new_sol = swap(i,j, current_sol)\n",
    "            new_cost = cost(flow, dist, new_sol)\n",
    "\n",
    "            if new_cost<current_best:\n",
    "                current_best = new_cost\n",
    "                best_sol = new_sol.copy()\n",
    "                best_pair = i,j\n",
    "\n",
    "    return best_sol"
   ]
  },
  {
   "cell_type": "code",
   "execution_count": 36,
   "id": "a90ba840",
   "metadata": {},
   "outputs": [],
   "source": [
    "def jitted_local_search(sol):\n",
    "    current_sol = sol.copy()\n",
    "    current_cost = jitted_cost(flow, dist, current_sol)\n",
    "\n",
    "    current_best = current_cost\n",
    "    best_sol = current_sol.copy()\n",
    "\n",
    "    for i in range(n):\n",
    "        for j in range(i+1,n):\n",
    "\n",
    "            new_sol = jitted_swap(i,j, current_sol)\n",
    "            new_cost = jitted_cost(flow, dist, new_sol)\n",
    "\n",
    "            if new_cost<current_best:\n",
    "                current_best = new_cost\n",
    "                best_sol = new_sol.copy()\n",
    "                best_pair = i,j\n",
    "\n",
    "    return best_sol"
   ]
  },
  {
   "cell_type": "code",
   "execution_count": 37,
   "id": "b4223e0e",
   "metadata": {},
   "outputs": [],
   "source": [
    "init_sol = np.arange(1,n+1)"
   ]
  },
  {
   "cell_type": "code",
   "execution_count": 38,
   "id": "30286491",
   "metadata": {},
   "outputs": [
    {
     "name": "stdout",
     "output_type": "stream",
     "text": [
      "CPU times: user 22.2 ms, sys: 690 µs, total: 22.8 ms\n",
      "Wall time: 22.1 ms\n"
     ]
    }
   ],
   "source": [
    "%%time\n",
    "new_sol = local_search(init_sol)"
   ]
  },
  {
   "cell_type": "code",
   "execution_count": 40,
   "id": "c526658b",
   "metadata": {},
   "outputs": [
    {
     "name": "stdout",
     "output_type": "stream",
     "text": [
      "CPU times: user 207 µs, sys: 23 µs, total: 230 µs\n",
      "Wall time: 211 µs\n"
     ]
    }
   ],
   "source": [
    "%%time\n",
    "new_sol = jitted_local_search(init_sol)"
   ]
  },
  {
   "cell_type": "code",
   "execution_count": 86,
   "id": "d577712c",
   "metadata": {},
   "outputs": [],
   "source": [
    "def calculate_delta(flow, dist, sol, i, j):\n",
    "    \n",
    "    d = (flow[i][i]-flow[j][j])*(dist[sol[j]-1][sol[j]-1]-dist[sol[i]-1][sol[i]-1]) + \\\n",
    "        (flow[i][j]-flow[j][i])*(dist[sol[j]-1][sol[i]-1]-dist[sol[i]-1][sol[j]-1])\n",
    "        \n",
    "    for k in range(n):\n",
    "        if k!=i and k!=j:\n",
    "            d = d + (flow[k][i]-flow[k][j])*(dist[sol[k]-1][sol[j]-1]-dist[sol[k]-1][sol[i]-1]) + \\\n",
    "                    (flow[i][k]-flow[j][k])*(dist[sol[j]-1][sol[k]-1]-dist[sol[i]-1][sol[k]-1])\n",
    "            \n",
    "    return d"
   ]
  },
  {
   "cell_type": "code",
   "execution_count": 89,
   "id": "6807fba1",
   "metadata": {},
   "outputs": [
    {
     "data": {
      "text/plain": [
       "array([0, 9])"
      ]
     },
     "execution_count": 89,
     "metadata": {},
     "output_type": "execute_result"
    }
   ],
   "source": [
    "sol = np.arange(1,n+1)\n",
    "\n",
    "delta = np.zeros(n*n).reshape(n,n)\n",
    "\n",
    "for i in range(n):\n",
    "    for j in range(n):\n",
    "        delta[i][j] = calculate_delta(flow, dist, sol, i, j)\n",
    "        \n",
    "\n",
    "\n",
    "np.argwhere(delta == np.min(delta))[0]"
   ]
  },
  {
   "cell_type": "code",
   "execution_count": 43,
   "id": "e7fca545",
   "metadata": {},
   "outputs": [],
   "source": [
    "def Grasp(it=100):\n",
    "    init_sol = rndsol(n)\n",
    "    \n",
    "    current_sol = init_sol.copy()\n",
    "    current_cost = cost(flow, dist, init_sol)\n",
    "    \n",
    "    best_sol = init_sol.copy()\n",
    "    best_cost = current_cost\n",
    "    \n",
    "    for i in range(it):\n",
    "        current_sol = local_search(current_sol)\n",
    "        current_cost = cost(flow, dist, current_sol)\n",
    "        \n",
    "        if current_cost < best_cost:\n",
    "            best_sol = current_sol.copy()\n",
    "            best_cost = current_cost\n",
    "            \n",
    "    return best_sol"
   ]
  },
  {
   "cell_type": "code",
   "execution_count": 49,
   "id": "5504c293",
   "metadata": {},
   "outputs": [
    {
     "name": "stdout",
     "output_type": "stream",
     "text": [
      "CPU times: user 16.7 s, sys: 230 ms, total: 16.9 s\n",
      "Wall time: 16.9 s\n"
     ]
    }
   ],
   "source": [
    "%%time\n",
    "sol = Grasp(1000)"
   ]
  },
  {
   "cell_type": "code",
   "execution_count": 48,
   "id": "0edc3651",
   "metadata": {},
   "outputs": [],
   "source": [
    "def jitted_Grasp(it=100):\n",
    "    init_sol = jitted_rndsol(n)\n",
    "    \n",
    "    current_sol = init_sol.copy()\n",
    "    current_cost = jitted_cost(flow, dist, init_sol)\n",
    "    \n",
    "    best_sol = init_sol.copy()\n",
    "    best_cost = current_cost\n",
    "    \n",
    "    for i in range(it):\n",
    "        current_sol = jitted_local_search(current_sol)\n",
    "        current_cost = jitted_cost(flow, dist, current_sol)\n",
    "        \n",
    "        if current_cost < best_cost:\n",
    "            best_sol = current_sol.copy()\n",
    "            best_cost = current_cost\n",
    "            \n",
    "    return best_sol"
   ]
  },
  {
   "cell_type": "code",
   "execution_count": 78,
   "id": "c8bc5bf1",
   "metadata": {},
   "outputs": [
    {
     "name": "stdout",
     "output_type": "stream",
     "text": [
      "CPU times: user 11.9 s, sys: 196 ms, total: 12.1 s\n",
      "Wall time: 12 s\n"
     ]
    }
   ],
   "source": [
    "%%time\n",
    "sol = jitted_Grasp(100000)"
   ]
  },
  {
   "cell_type": "code",
   "execution_count": 79,
   "id": "d2f2c3fa",
   "metadata": {},
   "outputs": [
    {
     "data": {
      "text/plain": [
       "array([ 5,  9,  7,  6,  4, 11,  1, 10,  8, 12,  2,  3])"
      ]
     },
     "execution_count": 79,
     "metadata": {},
     "output_type": "execute_result"
    }
   ],
   "source": [
    "sol"
   ]
  },
  {
   "cell_type": "code",
   "execution_count": 80,
   "id": "41060b75",
   "metadata": {},
   "outputs": [
    {
     "data": {
      "text/plain": [
       "252448"
      ]
     },
     "execution_count": 80,
     "metadata": {},
     "output_type": "execute_result"
    }
   ],
   "source": [
    "jitted_cost(flow, dist, sol)"
   ]
  },
  {
   "cell_type": "code",
   "execution_count": null,
   "id": "4c59d789",
   "metadata": {},
   "outputs": [],
   "source": []
  }
 ],
 "metadata": {
  "kernelspec": {
   "display_name": "Python 3",
   "language": "python",
   "name": "python3"
  },
  "language_info": {
   "codemirror_mode": {
    "name": "ipython",
    "version": 3
   },
   "file_extension": ".py",
   "mimetype": "text/x-python",
   "name": "python",
   "nbconvert_exporter": "python",
   "pygments_lexer": "ipython3",
   "version": "3.8.2"
  }
 },
 "nbformat": 4,
 "nbformat_minor": 5
}
